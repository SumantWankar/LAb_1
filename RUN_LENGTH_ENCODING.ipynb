{
  "nbformat": 4,
  "nbformat_minor": 0,
  "metadata": {
    "colab": {
      "name": "Untitled1.ipynb",
      "provenance": []
    },
    "kernelspec": {
      "name": "python3",
      "display_name": "Python 3"
    }
  },
  "cells": [
    {
      "cell_type": "code",
      "metadata": {
        "id": "IPJHCq34G9yT",
        "colab_type": "code",
        "colab": {}
      },
      "source": [
        "# Importing Required Libraries\n",
        "import random \n",
        "import numpy as np\n",
        "import math\n",
        "\n",
        "# Function to get binary value of a decimal value\n",
        "def decimal_to_binary(digit):\n",
        "    # If number is zero return 0000\n",
        "    if (digit == 0):\n",
        "        return '0000'\n",
        "    \n",
        "    # If number is from 1 to 15 return binary value in 4 bits \n",
        "    elif ((digit > 0) and (digit < 16)):\n",
        "        bin_value = ''\n",
        "        for i in range(4):\n",
        "            # To get binary value divide the number by 2 each time \n",
        "            # Storing remainder in string \n",
        "            bin_value = bin_value + str(digit % 2)\n",
        "            digit = digit // 2\n",
        "        # To get binary value reverse the string as we take remainder in reverse order    \n",
        "        return bin_value[::-1]\n",
        "    \n",
        "    # If number is greater than 15 return binary value in required number of bits\n",
        "    else:\n",
        "        # Calculating number of bits required to represent given number in binary\n",
        "        no_of_bits = math.floor(math.log2(digit)) + 1\n",
        "        bin_value = ''\n",
        "        for i in range(no_of_bits):\n",
        "            # To get binary value divide the number by 2 each time \n",
        "            # Storing remainder in string \n",
        "            bin_value = bin_value + str(digit % 2)\n",
        "            digit = digit // 2\n",
        "        # To get binary value reverse the string as we take remainder in reverse order     \n",
        "        return bin_value[::-1]\n",
        "\n"
      ],
      "execution_count": 0,
      "outputs": []
    },
    {
      "cell_type": "code",
      "metadata": {
        "id": "Kp0SHvSWHPzr",
        "colab_type": "code",
        "colab": {}
      },
      "source": [
        "\n",
        "# Function to get Run Length ENcoding of given bit stream\n",
        "def run_length_encoding(bit_stream):\n",
        "    # Convert Input Bit Stream in an array\n",
        "    bit_stream = np.asarray(bit_stream)\n",
        "    print('Input Bit Stream : ')\n",
        "    # Print array of input bit stream\n",
        "    print(bit_stream)\n",
        "\n",
        "    # List to store the bit followed by its count in decimal\n",
        "    decimal_encoding = []\n",
        "    \n",
        "    # List to store the bit followed by its count in binary\n",
        "    binary_encoding = []\n",
        "    \n",
        "    # Previous bit\n",
        "    prev_bit = ''\n",
        "    \n",
        "    # Initial Count = 0\n",
        "    count = 0\n",
        "\n",
        "    # Getting count in decimal as well as in binary\n",
        "    for j in range(len(bit_stream)):\n",
        "        \n",
        "        # If present bit is equal to previous bit increment the count\n",
        "        if (bit_stream[j] == prev_bit):\n",
        "            count = count + 1\n",
        "\n",
        "        # If present bit is not equal to previous bit then store the count value \n",
        "        # in decimal in decimal_encoding list and in binary in binary_encoding list\n",
        "        # Also, make count equal to 1 as we got new bit i.e. different from previous bit\n",
        "        else:\n",
        "            # Combining bit and its count(decimal)\n",
        "            decimal_encoded_value = str(prev_bit) + str(count)\n",
        "            \n",
        "            # Combining bit and its count(binary)\n",
        "            binary_encoded_value = str(prev_bit) + str(decimal_to_binary(count))\n",
        "\n",
        "            # Store these values in particular list\n",
        "            decimal_encoding.append(decimal_encoded_value)\n",
        "            binary_encoding.append(binary_encoded_value)\n",
        "            \n",
        "            # Make count equal to 1 as we got new bit i.e. different from previous bit\n",
        "            count = 1\n",
        "        \n",
        "        # Now previous bit = present bit for next bit\n",
        "        prev_bit = bit_stream[j]\n",
        "    \n",
        "    \n",
        "    # Now store the last bit and its count in particular list\n",
        "    decimal_encoding.append(str(prev_bit) + str(count))\n",
        "    # Print decimal_encoding list which contain bit followed by its count in decimal\n",
        "    print('\\nEach Bit and its count in decimal : ')\n",
        "    print(decimal_encoding[1:])\n",
        "\n",
        "    # Print binary_encoding list which contain bit followed by its count in binary\n",
        "    binary_encoding.append(str(prev_bit) + str(decimal_to_binary(count)))\n",
        "    final_encoding = binary_encoding[1:]\n",
        "    print('\\nEach Bit and its count in binary : ')\n",
        "    print(final_encoding)\n",
        "\n",
        "    # Converting this list binary_encoding into an array\n",
        "    s = ''\n",
        "    for i in final_encoding:\n",
        "        s = s + i\n",
        "\n",
        "    l = []\n",
        "    for i in s:\n",
        "        l.append(int(i))\n",
        "\n",
        "    # Printing an array of final encoded output in binary\n",
        "    rle_output = np.asarray(l)\n",
        "    print('\\nFinal Encoded Output : ')\n",
        "    print(rle_output)\n",
        "\n",
        "    \n",
        "    # Computing if it is negative compression or positive compression\n",
        "    # If length of Run Length Encoded output is less than input bit stream then \n",
        "    # it is positive compression otherwise it is negative compression\n",
        "    if (len(rle_output) < len(bit_stream)):\n",
        "        # Printing length of input bit stream array\n",
        "        print('\\nLength of Input Bit Stream(N1) : ', len(bit_stream))\n",
        "        \n",
        "        # Printing Length of Run Length Encoded output array\n",
        "        print('Length of Final Encoded Output(n2) : ', len(rle_output))\n",
        "        print(len(rle_output), '(N2) < (N1)', len(bit_stream))\n",
        "        \n",
        "        # Stating that it is positive Compression\n",
        "        print('Hence, it is a Positive Compression')\n",
        "        \n",
        "        # Printing Compression Ratio\n",
        "        print('Compression Ratio (N1/N2) = ',len(bit_stream)/len(rle_output))\n",
        "\n",
        "        \n",
        "    elif (len(rle_output) > len(bit_stream)):\n",
        "        # Printing length of input bit stream array\n",
        "        print('\\nLength of Input Bit Stream(N1) : ', len(bit_stream))\n",
        "        \n",
        "        # Printing Length of Run Length Encoded output array\n",
        "        print('Length of Final Encoded Output(N2) : ', len(rle_output))\n",
        "        print(len(rle_output), '(N2) > (N1)', len(bit_stream))\n",
        "        \n",
        "        # Stating that it is positive Compression\n",
        "        print('Hence, it is a Negative Compression')"
      ],
      "execution_count": 0,
      "outputs": []
    },
    {
      "cell_type": "code",
      "metadata": {
        "id": "xFX9MfKMHWax",
        "colab_type": "code",
        "colab": {
          "base_uri": "https://localhost:8080/",
          "height": 481
        },
        "outputId": "dbabec11-8a46-4314-fc72-47dd7ddbbb9b"
      },
      "source": [
        "# Enter input bit stream in an Array\n",
        "# For Example bit_stream = [1,0,0,1,1,1,0]\n",
        "# Then, call run_length_encoding(bit_stream) to get output\n",
        "\n",
        "# List for storing input bits\n",
        "bit_stream = []\n",
        "\n",
        "# Generating 100 bits randomly\n",
        "for i in range(100):\n",
        "    random_bit = random.randint(0,1)\n",
        "    bit_stream.append(random_bit)\n",
        "    \n",
        "# Call run_length_encoding(bit_stream) to compute Run Length Encoding of input bit stream\n",
        "run_length_encoding(bit_stream)"
      ],
      "execution_count": 3,
      "outputs": [
        {
          "output_type": "stream",
          "text": [
            "Input Bit Stream : \n",
            "[0 1 0 0 1 1 0 0 1 1 1 0 1 0 1 1 0 0 1 0 1 1 1 1 0 0 1 0 0 1 1 0 1 1 1 0 1\n",
            " 0 1 0 0 1 1 1 1 0 1 0 1 0 0 0 1 1 0 0 1 0 0 1 1 1 1 0 0 0 1 0 1 1 0 0 0 1\n",
            " 0 1 1 0 0 0 1 1 1 0 0 0 1 1 1 1 0 1 1 0 1 0 1 1 0 0]\n",
            "\n",
            "Each Bit and its count in decimal : \n",
            "['01', '11', '02', '12', '02', '13', '01', '11', '01', '12', '02', '11', '01', '14', '02', '11', '02', '12', '01', '13', '01', '11', '01', '11', '02', '14', '01', '11', '01', '11', '03', '12', '02', '11', '02', '14', '03', '11', '01', '12', '03', '11', '01', '12', '03', '13', '03', '14', '01', '12', '01', '11', '01', '12', '02']\n",
            "\n",
            "Each Bit and its count in binary : \n",
            "['00001', '10001', '00010', '10010', '00010', '10011', '00001', '10001', '00001', '10010', '00010', '10001', '00001', '10100', '00010', '10001', '00010', '10010', '00001', '10011', '00001', '10001', '00001', '10001', '00010', '10100', '00001', '10001', '00001', '10001', '00011', '10010', '00010', '10001', '00010', '10100', '00011', '10001', '00001', '10010', '00011', '10001', '00001', '10010', '00011', '10011', '00011', '10100', '00001', '10010', '00001', '10001', '00001', '10010', '00010']\n",
            "\n",
            "Final Encoded Output : \n",
            "[0 0 0 0 1 1 0 0 0 1 0 0 0 1 0 1 0 0 1 0 0 0 0 1 0 1 0 0 1 1 0 0 0 0 1 1 0\n",
            " 0 0 1 0 0 0 0 1 1 0 0 1 0 0 0 0 1 0 1 0 0 0 1 0 0 0 0 1 1 0 1 0 0 0 0 0 1\n",
            " 0 1 0 0 0 1 0 0 0 1 0 1 0 0 1 0 0 0 0 0 1 1 0 0 1 1 0 0 0 0 1 1 0 0 0 1 0\n",
            " 0 0 0 1 1 0 0 0 1 0 0 0 1 0 1 0 1 0 0 0 0 0 0 1 1 0 0 0 1 0 0 0 0 1 1 0 0\n",
            " 0 1 0 0 0 1 1 1 0 0 1 0 0 0 0 1 0 1 0 0 0 1 0 0 0 1 0 1 0 1 0 0 0 0 0 1 1\n",
            " 1 0 0 0 1 0 0 0 0 1 1 0 0 1 0 0 0 0 1 1 1 0 0 0 1 0 0 0 0 1 1 0 0 1 0 0 0\n",
            " 0 1 1 1 0 0 1 1 0 0 0 1 1 1 0 1 0 0 0 0 0 0 1 1 0 0 1 0 0 0 0 0 1 1 0 0 0\n",
            " 1 0 0 0 0 1 1 0 0 1 0 0 0 0 1 0]\n",
            "\n",
            "Length of Input Bit Stream(N1) :  100\n",
            "Length of Final Encoded Output(N2) :  275\n",
            "275 (N2) > (N1) 100\n",
            "Hence, it is a Negative Compression\n"
          ],
          "name": "stdout"
        }
      ]
    },
    {
      "cell_type": "code",
      "metadata": {
        "id": "BgfhfCU6Hj8V",
        "colab_type": "code",
        "colab": {
          "base_uri": "https://localhost:8080/",
          "height": 372
        },
        "outputId": "7bf7c9ea-812f-4b46-ff76-d6d7e92ddd6c"
      },
      "source": [
        "# Enter input bit stream in an Array\n",
        "# For Example bit_stream = [1,0,0,0,1,1,1]\n",
        "# Then, call run_length_encoding(bit_stream) to get output\n",
        "\n",
        "# Input bit stream\n",
        "bit_stream = [1,1,1,1,1,1,1,1,1,1,1,1,1,1,1,1,1,1,1,1,1,1,0,0,0,1,1,1,1,1,1,0,0,0,0,0,0,0,0,0,0,0,0,0,0,0,1,1,1,1,1,1,1,1,1,1,1,1,1,1,1,1,0,0,0,0,0,0,0,0,1,1,1,1,1,1,1,1,1,1,0,0,0,0,0,0,0,0,0,0,0,0,0,1,1,1,1,1,1,1]\n",
        "\n",
        "# Call run_length_encoding(bit_stream) to compute Run Length Encoding of input bit stream\n",
        "run_length_encoding(bit_stream)"
      ],
      "execution_count": 6,
      "outputs": [
        {
          "output_type": "stream",
          "text": [
            "Input Bit Stream : \n",
            "[1 1 1 1 1 1 1 1 1 1 1 1 1 1 1 1 1 1 1 1 1 1 0 0 0 1 1 1 1 1 1 0 0 0 0 0 0\n",
            " 0 0 0 0 0 0 0 0 0 1 1 1 1 1 1 1 1 1 1 1 1 1 1 1 1 0 0 0 0 0 0 0 0 1 1 1 1\n",
            " 1 1 1 1 1 1 0 0 0 0 0 0 0 0 0 0 0 0 0 1 1 1 1 1 1 1]\n",
            "\n",
            "Each Bit and its count in decimal : \n",
            "['122', '03', '16', '015', '116', '08', '110', '013', '17']\n",
            "\n",
            "Each Bit and its count in binary : \n",
            "['110110', '00011', '10110', '01111', '110000', '01000', '11010', '01101', '10111']\n",
            "\n",
            "Final Encoded Output : \n",
            "[1 1 0 1 1 0 0 0 0 1 1 1 0 1 1 0 0 1 1 1 1 1 1 0 0 0 0 0 1 0 0 0 1 1 0 1 0\n",
            " 0 1 1 0 1 1 0 1 1 1]\n",
            "\n",
            "Length of Input Bit Stream(N1) :  100\n",
            "Length of Final Encoded Output(n2) :  47\n",
            "47 (N2) < (N1) 100\n",
            "Hence, it is a Positive Compression\n",
            "Compression Ratio (N1/N2) =  2.127659574468085\n"
          ],
          "name": "stdout"
        }
      ]
    },
    {
      "cell_type": "code",
      "metadata": {
        "id": "Z47R1DB7Ho2a",
        "colab_type": "code",
        "colab": {
          "base_uri": "https://localhost:8080/",
          "height": 336
        },
        "outputId": "ecbbb662-6747-4826-fe13-59a661a3efc5"
      },
      "source": [
        "# Enter input bit stream in an Array\n",
        "# For Example bit_stream = [1,0,0,0,1,1,1]\n",
        "# Then, call run_length_encoding(bit_stream) to get output\n",
        "\n",
        "# Input bit stream\n",
        "bit_stream = [1,1,1,1,1,1,1,1,1,1,1,1,1,1,1,1,1,1,1,1,1,0,0,0,0,0,0,1,1,1,1,1,1,1,0,0,0,0,0,0,0,0,0,0,0,0,0,0,0,0,0,0,1,1,1,1,1,1,1]\n",
        "\n",
        "# Call run_length_encoding(bit_stream) to compute Run Length Encoding of input bit stream\n",
        "run_length_encoding(bit_stream)"
      ],
      "execution_count": 7,
      "outputs": [
        {
          "output_type": "stream",
          "text": [
            "Input Bit Stream : \n",
            "[1 1 1 1 1 1 1 1 1 1 1 1 1 1 1 1 1 1 1 1 1 0 0 0 0 0 0 1 1 1 1 1 1 1 0 0 0\n",
            " 0 0 0 0 0 0 0 0 0 0 0 0 0 0 0 1 1 1 1 1 1 1]\n",
            "\n",
            "Each Bit and its count in decimal : \n",
            "['121', '06', '17', '018', '17']\n",
            "\n",
            "Each Bit and its count in binary : \n",
            "['110101', '00110', '10111', '010010', '10111']\n",
            "\n",
            "Final Encoded Output : \n",
            "[1 1 0 1 0 1 0 0 1 1 0 1 0 1 1 1 0 1 0 0 1 0 1 0 1 1 1]\n",
            "\n",
            "Length of Input Bit Stream(N1) :  59\n",
            "Length of Final Encoded Output(n2) :  27\n",
            "27 (N2) < (N1) 59\n",
            "Hence, it is a Positive Compression\n",
            "Compression Ratio (N1/N2) =  2.185185185185185\n"
          ],
          "name": "stdout"
        }
      ]
    },
    {
      "cell_type": "code",
      "metadata": {
        "id": "wPCoQH0EHrOe",
        "colab_type": "code",
        "colab": {}
      },
      "source": [
        ""
      ],
      "execution_count": 0,
      "outputs": []
    }
  ]
}